{
 "cells": [
  {
   "cell_type": "markdown",
   "metadata": {},
   "source": [
    "# CLustering for Preprocessing"
   ]
  },
  {
   "cell_type": "code",
   "execution_count": 23,
   "metadata": {},
   "outputs": [],
   "source": [
    "#importing the libraries\n",
    "from sklearn.datasets import load_digits\n",
    "from sklearn.model_selection import train_test_split\n",
    "from sklearn.linear_model import LogisticRegression\n",
    "import warnings\n",
    "warnings.filterwarnings(\"ignore\")"
   ]
  },
  {
   "cell_type": "code",
   "execution_count": 21,
   "metadata": {},
   "outputs": [
    {
     "data": {
      "text/plain": [
       "0.9755555555555555"
      ]
     },
     "execution_count": 21,
     "metadata": {},
     "output_type": "execute_result"
    }
   ],
   "source": [
    "# Load the data\n",
    "X_digits, y_digits = load_digits(return_X_y=True)\n",
    "\n",
    "# Split the data into a training set and a test set\n",
    "X_train, X_test, y_train, y_test = train_test_split(X_digits, y_digits)\n",
    "\n",
    "# Train a logistic regression model\n",
    "model = LogisticRegression(random_state=42, max_iter=1000)\n",
    "\n",
    "# Fit the model\n",
    "model.fit(X_train, y_train)\n",
    "\n",
    "# Evaluate the model\n",
    "model.score(X_test, y_test)"
   ]
  },
  {
   "cell_type": "markdown",
   "metadata": {},
   "source": [
    "## Pipeline"
   ]
  },
  {
   "cell_type": "code",
   "execution_count": 27,
   "metadata": {},
   "outputs": [
    {
     "data": {
      "text/plain": [
       "0.98"
      ]
     },
     "execution_count": 27,
     "metadata": {},
     "output_type": "execute_result"
    }
   ],
   "source": [
    "from sklearn.pipeline import Pipeline\n",
    "from sklearn.cluster import KMeans\n",
    "\n",
    "# Create a pipeline\n",
    "pipeline = Pipeline([\n",
    "    ('kmeans', KMeans(n_clusters=50)),\n",
    "    (\"logistic\", LogisticRegression(random_state=42, max_iter=1000))\n",
    "])\n",
    "\n",
    "# Fit the model\n",
    "pipeline.fit(X_train, y_train)\n",
    "\n",
    "# Evaluate the model\n",
    "pipeline.score(X_test, y_test)"
   ]
  },
  {
   "cell_type": "markdown",
   "metadata": {},
   "source": [
    "## Cross Validation"
   ]
  },
  {
   "cell_type": "code",
   "execution_count": 30,
   "metadata": {},
   "outputs": [
    {
     "name": "stdout",
     "output_type": "stream",
     "text": [
      "Fitting 3 folds for each of 8 candidates, totalling 24 fits\n",
      "[CV] END ...............................kmeans__n_clusters=2; total time=   0.9s\n",
      "[CV] END ...............................kmeans__n_clusters=2; total time=   0.6s\n",
      "[CV] END ...............................kmeans__n_clusters=2; total time=   0.6s\n",
      "[CV] END ...............................kmeans__n_clusters=3; total time=   0.9s\n",
      "[CV] END ...............................kmeans__n_clusters=3; total time=   0.7s\n",
      "[CV] END ...............................kmeans__n_clusters=3; total time=   0.6s\n",
      "[CV] END ...............................kmeans__n_clusters=4; total time=   0.5s\n",
      "[CV] END ...............................kmeans__n_clusters=4; total time=   0.6s\n",
      "[CV] END ...............................kmeans__n_clusters=4; total time=   0.7s\n",
      "[CV] END ...............................kmeans__n_clusters=5; total time=   0.9s\n",
      "[CV] END ...............................kmeans__n_clusters=5; total time=   0.7s\n",
      "[CV] END ...............................kmeans__n_clusters=5; total time=   0.5s\n",
      "[CV] END ...............................kmeans__n_clusters=6; total time=   0.6s\n",
      "[CV] END ...............................kmeans__n_clusters=6; total time=   0.6s\n",
      "[CV] END ...............................kmeans__n_clusters=6; total time=   0.6s\n",
      "[CV] END ...............................kmeans__n_clusters=7; total time=   0.9s\n",
      "[CV] END ...............................kmeans__n_clusters=7; total time=   1.1s\n",
      "[CV] END ...............................kmeans__n_clusters=7; total time=   1.0s\n",
      "[CV] END ...............................kmeans__n_clusters=8; total time=   0.7s\n",
      "[CV] END ...............................kmeans__n_clusters=8; total time=   0.6s\n",
      "[CV] END ...............................kmeans__n_clusters=8; total time=   0.6s\n",
      "[CV] END ...............................kmeans__n_clusters=9; total time=   0.6s\n",
      "[CV] END ...............................kmeans__n_clusters=9; total time=   0.7s\n",
      "[CV] END ...............................kmeans__n_clusters=9; total time=   0.8s\n"
     ]
    },
    {
     "data": {
      "text/plain": [
       "{'kmeans__n_clusters': 9}"
      ]
     },
     "execution_count": 30,
     "metadata": {},
     "output_type": "execute_result"
    }
   ],
   "source": [
    "from sklearn.model_selection import GridSearchCV\n",
    "\n",
    "param_grid = dict(kmeans__n_clusters=range(2, 10))\n",
    "grid_clf = GridSearchCV(pipeline, param_grid, cv=3, verbose=2)\n",
    "grid_clf.fit(X_train, y_train)\n",
    "\n",
    "\n",
    "grid_clf.best_params_"
   ]
  },
  {
   "cell_type": "code",
   "execution_count": 32,
   "metadata": {},
   "outputs": [
    {
     "data": {
      "text/plain": [
       "0.9266666666666666"
      ]
     },
     "execution_count": 32,
     "metadata": {},
     "output_type": "execute_result"
    }
   ],
   "source": [
    "grid_clf.score(X_test, y_test)"
   ]
  }
 ],
 "metadata": {
  "kernelspec": {
   "display_name": "conda",
   "language": "python",
   "name": "python3"
  },
  "language_info": {
   "codemirror_mode": {
    "name": "ipython",
    "version": 3
   },
   "file_extension": ".py",
   "mimetype": "text/x-python",
   "name": "python",
   "nbconvert_exporter": "python",
   "pygments_lexer": "ipython3",
   "version": "3.12.4"
  }
 },
 "nbformat": 4,
 "nbformat_minor": 2
}
