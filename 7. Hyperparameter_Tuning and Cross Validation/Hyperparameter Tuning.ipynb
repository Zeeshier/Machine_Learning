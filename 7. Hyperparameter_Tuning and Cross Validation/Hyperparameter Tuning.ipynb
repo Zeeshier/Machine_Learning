{
 "cells": [
  {
   "cell_type": "markdown",
   "metadata": {},
   "source": [
    "# Hyperparameter Tuning"
   ]
  },
  {
   "cell_type": "code",
   "execution_count": 1,
   "metadata": {},
   "outputs": [],
   "source": [
    "#import Libararies\n",
    "from sklearn.model_selection import train_test_split, GridSearchCV, RandomizedSearchCV\n",
    "from sklearn.ensemble import RandomForestClassifier\n",
    "from sklearn.metrics import accuracy_score, classification_report, confusion_matrix"
   ]
  },
  {
   "cell_type": "code",
   "execution_count": 2,
   "metadata": {},
   "outputs": [],
   "source": [
    "#load the data\n",
    "from sklearn.datasets import load_iris\n",
    "iris = load_iris()\n",
    "\n",
    "X = iris.data\n",
    "y = iris.target"
   ]
  },
  {
   "cell_type": "markdown",
   "metadata": {},
   "source": [
    "## GridSearchCV"
   ]
  },
  {
   "cell_type": "code",
   "execution_count": 7,
   "metadata": {},
   "outputs": [
    {
     "name": "stdout",
     "output_type": "stream",
     "text": [
      "Fitting 5 folds for each of 40 candidates, totalling 200 fits\n",
      "best parameters: {'criterion': 'gini', 'max_depth': 4, 'n_estimators': 300}\n"
     ]
    }
   ],
   "source": [
    "#define the model\n",
    "model = RandomForestClassifier()\n",
    "\n",
    "#create the parameters grid based on model\n",
    "param_grid = {\n",
    "    'n_estimators': [100, 200, 300, 400],\n",
    "    'max_depth': [1, 2, 3, 4, 5],\n",
    "    'criterion': ['gini', 'entropy'],\n",
    "}\n",
    "\n",
    "#set the grid search\n",
    "grid_search = GridSearchCV( estimator=model, \n",
    "                            param_grid=param_grid,\n",
    "                            cv=5,\n",
    "                            scoring='accuracy',\n",
    "                            n_jobs=-1,\n",
    "                            verbose=1\n",
    "                            )\n",
    "\n",
    "#fit the model\n",
    "grid_search.fit(X, y)\n",
    "\n",
    "#show the best parameters\n",
    "print('best parameters:', grid_search.best_params_)\n"
   ]
  },
  {
   "cell_type": "markdown",
   "metadata": {},
   "source": [
    "## RandomizedSearchCV"
   ]
  },
  {
   "cell_type": "code",
   "execution_count": 8,
   "metadata": {},
   "outputs": [
    {
     "name": "stdout",
     "output_type": "stream",
     "text": [
      "Fitting 5 folds for each of 10 candidates, totalling 50 fits\n",
      "best parameters: {'n_estimators': 200, 'max_depth': 4, 'criterion': 'gini'}\n"
     ]
    }
   ],
   "source": [
    "#define the model\n",
    "model = RandomForestClassifier()\n",
    "\n",
    "#create the parameters grid based on model\n",
    "param_grid = {\n",
    "    'n_estimators': [100, 200, 300, 400],\n",
    "    'max_depth': [1, 2, 3, 4, 5],\n",
    "    'criterion': ['gini', 'entropy'],\n",
    "}\n",
    "\n",
    "#set the grid search\n",
    "grid_search = RandomizedSearchCV( estimator=model, \n",
    "                            param_distributions=param_grid,\n",
    "                            cv=5,\n",
    "                            scoring='accuracy',\n",
    "                            n_jobs=-1,\n",
    "                            verbose=1,\n",
    "                            n_iter=10\n",
    "                            )\n",
    "\n",
    "#fit the model\n",
    "grid_search.fit(X, y)\n",
    "\n",
    "#show the best parameters\n",
    "print('best parameters:', grid_search.best_params_)\n"
   ]
  }
 ],
 "metadata": {
  "kernelspec": {
   "display_name": "conda",
   "language": "python",
   "name": "python3"
  },
  "language_info": {
   "codemirror_mode": {
    "name": "ipython",
    "version": 3
   },
   "file_extension": ".py",
   "mimetype": "text/x-python",
   "name": "python",
   "nbconvert_exporter": "python",
   "pygments_lexer": "ipython3",
   "version": "3.12.4"
  }
 },
 "nbformat": 4,
 "nbformat_minor": 2
}
